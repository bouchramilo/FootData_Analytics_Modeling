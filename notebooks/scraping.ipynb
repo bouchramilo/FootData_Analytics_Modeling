{
 "cells": [
  {
   "cell_type": "markdown",
   "id": "fe03d3c2",
   "metadata": {},
   "source": [
    "# ⚽ Modélisation et Analyse de Données Footballistiques"
   ]
  },
  {
   "cell_type": "markdown",
   "id": "91819931",
   "metadata": {},
   "source": [
    "* Les imports : "
   ]
  },
  {
   "cell_type": "code",
   "execution_count": 1,
   "id": "163dbbb8",
   "metadata": {},
   "outputs": [],
   "source": [
    "import pandas as pandas\n",
    "import numpy as np\n",
    "import seaborn as sns\n",
    "import matplotlib.pyplot as plt\n",
    "from selenium import webdriver\n",
    "\n"
   ]
  },
  {
   "cell_type": "markdown",
   "id": "a555a0ee",
   "metadata": {},
   "source": [
    "***"
   ]
  },
  {
   "cell_type": "markdown",
   "id": "2701e112",
   "metadata": {},
   "source": [
    "## 1️⃣ Web Scraping"
   ]
  },
  {
   "cell_type": "markdown",
   "id": "a18c2e97",
   "metadata": {},
   "source": [
    "### ➕ Mise en place de l’environnement de scraping"
   ]
  },
  {
   "cell_type": "code",
   "execution_count": 2,
   "id": "60e88c27",
   "metadata": {},
   "outputs": [],
   "source": [
    "\n",
    "def initialiser_driver():\n",
    "    \n",
    "    try:\n",
    "        driver = webdriver.Chrome()\n",
    "        print(\"Driver initialisé avec succès en mode headless.\")\n",
    "        return driver\n",
    "    except Exception as e:\n",
    "        print(f\"Erreur lors de l'initialisation du driver : {e}\")\n",
    "        return None"
   ]
  },
  {
   "cell_type": "code",
   "execution_count": 3,
   "id": "9d1b6cef",
   "metadata": {},
   "outputs": [
    {
     "name": "stdout",
     "output_type": "stream",
     "text": [
      "Driver initialisé avec succès en mode headless.\n",
      "Premier League Seasons | FBref.com\n"
     ]
    }
   ],
   "source": [
    "driver = initialiser_driver()\n",
    "driver.get(\"https://fbref.com/en/comps/9/history/Premier-League-Seasons\")\n",
    "print(driver.title)"
   ]
  },
  {
   "cell_type": "code",
   "execution_count": null,
   "id": "efc14400",
   "metadata": {},
   "outputs": [],
   "source": [
    "# driver.close()"
   ]
  },
  {
   "cell_type": "markdown",
   "id": "4288c5da",
   "metadata": {},
   "source": [
    "### ➕ Collecte des informations sur les équipes"
   ]
  },
  {
   "cell_type": "code",
   "execution_count": null,
   "id": "7062edce",
   "metadata": {},
   "outputs": [],
   "source": []
  },
  {
   "cell_type": "code",
   "execution_count": null,
   "id": "ea45fc2e",
   "metadata": {},
   "outputs": [],
   "source": []
  },
  {
   "cell_type": "code",
   "execution_count": null,
   "id": "7fd24060",
   "metadata": {},
   "outputs": [],
   "source": []
  }
 ],
 "metadata": {
  "kernelspec": {
   "display_name": "Python 3",
   "language": "python",
   "name": "python3"
  },
  "language_info": {
   "codemirror_mode": {
    "name": "ipython",
    "version": 3
   },
   "file_extension": ".py",
   "mimetype": "text/x-python",
   "name": "python",
   "nbconvert_exporter": "python",
   "pygments_lexer": "ipython3",
   "version": "3.13.7"
  }
 },
 "nbformat": 4,
 "nbformat_minor": 5
}
