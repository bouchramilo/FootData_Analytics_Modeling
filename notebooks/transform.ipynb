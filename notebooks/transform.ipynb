{
 "cells": [
  {
   "cell_type": "markdown",
   "id": "a014befe",
   "metadata": {},
   "source": [
    "# ⚽ Modélisation et Analyse de Données Footballistiques"
   ]
  },
  {
   "cell_type": "markdown",
   "id": "e6476241",
   "metadata": {},
   "source": [
    "* Les imports : "
   ]
  },
  {
   "cell_type": "code",
   "execution_count": 28,
   "id": "d9da84d4",
   "metadata": {},
   "outputs": [],
   "source": [
    "import pandas as pd\n",
    "import numpy as np\n",
    "import seaborn as sns\n",
    "import matplotlib.pyplot as plt\n",
    "from selenium import webdriver\n",
    "import time\n",
    "from selenium.webdriver.common.by import By\n",
    "from selenium.webdriver.support.ui import WebDriverWait\n",
    "from selenium.webdriver.support import expected_conditions as EC\n",
    "\n"
   ]
  },
  {
   "cell_type": "markdown",
   "id": "f904f9fd",
   "metadata": {},
   "source": [
    "## 🟢 matches : "
   ]
  },
  {
   "cell_type": "markdown",
   "id": "de1c483f",
   "metadata": {},
   "source": [
    "* Importer dataframe (matches) : "
   ]
  },
  {
   "cell_type": "code",
   "execution_count": 29,
   "id": "806df19a",
   "metadata": {},
   "outputs": [
    {
     "data": {
      "text/html": [
       "<div>\n",
       "<style scoped>\n",
       "    .dataframe tbody tr th:only-of-type {\n",
       "        vertical-align: middle;\n",
       "    }\n",
       "\n",
       "    .dataframe tbody tr th {\n",
       "        vertical-align: top;\n",
       "    }\n",
       "\n",
       "    .dataframe thead th {\n",
       "        text-align: right;\n",
       "    }\n",
       "</style>\n",
       "<table border=\"1\" class=\"dataframe\">\n",
       "  <thead>\n",
       "    <tr style=\"text-align: right;\">\n",
       "      <th></th>\n",
       "      <th>Squad</th>\n",
       "      <th>Date</th>\n",
       "      <th>Time</th>\n",
       "      <th>Comp</th>\n",
       "      <th>Round</th>\n",
       "      <th>Day</th>\n",
       "      <th>Venue</th>\n",
       "      <th>Result</th>\n",
       "      <th>GF</th>\n",
       "      <th>GA</th>\n",
       "      <th>Opponent</th>\n",
       "      <th>xG</th>\n",
       "      <th>xGA</th>\n",
       "      <th>Poss</th>\n",
       "      <th>Attendance</th>\n",
       "      <th>Captain</th>\n",
       "      <th>Formation</th>\n",
       "      <th>Opp Formation</th>\n",
       "      <th>Referee</th>\n",
       "    </tr>\n",
       "  </thead>\n",
       "  <tbody>\n",
       "    <tr>\n",
       "      <th>0</th>\n",
       "      <td>Liverpool</td>\n",
       "      <td>2024-08-17</td>\n",
       "      <td>12:30</td>\n",
       "      <td>Premier League</td>\n",
       "      <td>Matchweek 1</td>\n",
       "      <td>Sat</td>\n",
       "      <td>Away</td>\n",
       "      <td>W</td>\n",
       "      <td>2</td>\n",
       "      <td>0</td>\n",
       "      <td>Ipswich Town</td>\n",
       "      <td>2.6</td>\n",
       "      <td>0.5</td>\n",
       "      <td>62.0</td>\n",
       "      <td>30,014</td>\n",
       "      <td>Virgil van Dijk</td>\n",
       "      <td>4-2-3-1</td>\n",
       "      <td>4-2-3-1</td>\n",
       "      <td>Tim Robinson</td>\n",
       "    </tr>\n",
       "    <tr>\n",
       "      <th>1</th>\n",
       "      <td>Liverpool</td>\n",
       "      <td>2024-08-25</td>\n",
       "      <td>16:30</td>\n",
       "      <td>Premier League</td>\n",
       "      <td>Matchweek 2</td>\n",
       "      <td>Sun</td>\n",
       "      <td>Home</td>\n",
       "      <td>W</td>\n",
       "      <td>2</td>\n",
       "      <td>0</td>\n",
       "      <td>Brentford</td>\n",
       "      <td>2.5</td>\n",
       "      <td>0.5</td>\n",
       "      <td>62.0</td>\n",
       "      <td>60,017</td>\n",
       "      <td>Virgil van Dijk</td>\n",
       "      <td>4-2-3-1</td>\n",
       "      <td>4-4-2</td>\n",
       "      <td>Stuart Attwell</td>\n",
       "    </tr>\n",
       "    <tr>\n",
       "      <th>2</th>\n",
       "      <td>Liverpool</td>\n",
       "      <td>2024-09-01</td>\n",
       "      <td>16:00</td>\n",
       "      <td>Premier League</td>\n",
       "      <td>Matchweek 3</td>\n",
       "      <td>Sun</td>\n",
       "      <td>Away</td>\n",
       "      <td>W</td>\n",
       "      <td>3</td>\n",
       "      <td>0</td>\n",
       "      <td>Manchester Utd</td>\n",
       "      <td>1.8</td>\n",
       "      <td>1.4</td>\n",
       "      <td>47.0</td>\n",
       "      <td>73,738</td>\n",
       "      <td>Virgil van Dijk</td>\n",
       "      <td>4-2-3-1</td>\n",
       "      <td>4-2-3-1</td>\n",
       "      <td>Anthony Taylor</td>\n",
       "    </tr>\n",
       "    <tr>\n",
       "      <th>3</th>\n",
       "      <td>Liverpool</td>\n",
       "      <td>2024-09-14</td>\n",
       "      <td>15:00</td>\n",
       "      <td>Premier League</td>\n",
       "      <td>Matchweek 4</td>\n",
       "      <td>Sat</td>\n",
       "      <td>Home</td>\n",
       "      <td>L</td>\n",
       "      <td>0</td>\n",
       "      <td>1</td>\n",
       "      <td>Nott'ham Forest</td>\n",
       "      <td>0.9</td>\n",
       "      <td>0.4</td>\n",
       "      <td>68.0</td>\n",
       "      <td>60,344</td>\n",
       "      <td>Virgil van Dijk</td>\n",
       "      <td>4-2-3-1</td>\n",
       "      <td>4-2-3-1</td>\n",
       "      <td>Michael Oliver</td>\n",
       "    </tr>\n",
       "    <tr>\n",
       "      <th>4</th>\n",
       "      <td>Liverpool</td>\n",
       "      <td>2024-09-17</td>\n",
       "      <td>21:00 (20:00)</td>\n",
       "      <td>Champions Lg</td>\n",
       "      <td>League phase</td>\n",
       "      <td>Tue</td>\n",
       "      <td>Away</td>\n",
       "      <td>W</td>\n",
       "      <td>3</td>\n",
       "      <td>1</td>\n",
       "      <td>it Milan</td>\n",
       "      <td>3.1</td>\n",
       "      <td>0.6</td>\n",
       "      <td>51.0</td>\n",
       "      <td>59,826</td>\n",
       "      <td>Virgil van Dijk</td>\n",
       "      <td>4-2-3-1</td>\n",
       "      <td>4-2-3-1</td>\n",
       "      <td>Espen Eskås</td>\n",
       "    </tr>\n",
       "  </tbody>\n",
       "</table>\n",
       "</div>"
      ],
      "text/plain": [
       "       Squad        Date           Time            Comp         Round  Day  \\\n",
       "0  Liverpool  2024-08-17          12:30  Premier League   Matchweek 1  Sat   \n",
       "1  Liverpool  2024-08-25          16:30  Premier League   Matchweek 2  Sun   \n",
       "2  Liverpool  2024-09-01          16:00  Premier League   Matchweek 3  Sun   \n",
       "3  Liverpool  2024-09-14          15:00  Premier League   Matchweek 4  Sat   \n",
       "4  Liverpool  2024-09-17  21:00 (20:00)    Champions Lg  League phase  Tue   \n",
       "\n",
       "  Venue Result GF GA         Opponent   xG  xGA  Poss Attendance  \\\n",
       "0  Away      W  2  0     Ipswich Town  2.6  0.5  62.0     30,014   \n",
       "1  Home      W  2  0        Brentford  2.5  0.5  62.0     60,017   \n",
       "2  Away      W  3  0   Manchester Utd  1.8  1.4  47.0     73,738   \n",
       "3  Home      L  0  1  Nott'ham Forest  0.9  0.4  68.0     60,344   \n",
       "4  Away      W  3  1         it Milan  3.1  0.6  51.0     59,826   \n",
       "\n",
       "           Captain Formation Opp Formation         Referee  \n",
       "0  Virgil van Dijk   4-2-3-1       4-2-3-1    Tim Robinson  \n",
       "1  Virgil van Dijk   4-2-3-1         4-4-2  Stuart Attwell  \n",
       "2  Virgil van Dijk   4-2-3-1       4-2-3-1  Anthony Taylor  \n",
       "3  Virgil van Dijk   4-2-3-1       4-2-3-1  Michael Oliver  \n",
       "4  Virgil van Dijk   4-2-3-1       4-2-3-1     Espen Eskås  "
      ]
     },
     "execution_count": 29,
     "metadata": {},
     "output_type": "execute_result"
    }
   ],
   "source": [
    "# les matches : \n",
    "df_matches = pd.read_csv('../data/data_scraper/matchs_infos.csv')\n",
    "df_matches.head(5)"
   ]
  },
  {
   "cell_type": "markdown",
   "id": "97844b1e",
   "metadata": {},
   "source": [
    "\n",
    "### 2️⃣ Transformation des données (matches)"
   ]
  },
  {
   "cell_type": "markdown",
   "id": "086035b8",
   "metadata": {},
   "source": [
    "#### ➕ Nettoyage : suppression ou traitement des valeurs manquantes et incohérentes."
   ]
  },
  {
   "cell_type": "markdown",
   "id": "96b4b66e",
   "metadata": {},
   "source": [
    "##### 🔎 Compter le nombre des manquantes dans dataframes (matches)"
   ]
  },
  {
   "cell_type": "markdown",
   "id": "91b96f09",
   "metadata": {},
   "source": [
    "* visualisation général : "
   ]
  },
  {
   "cell_type": "code",
   "execution_count": 30,
   "id": "ff3f79e7",
   "metadata": {},
   "outputs": [
    {
     "name": "stdout",
     "output_type": "stream",
     "text": [
      "Le nombres total des matches : (975, 19)\n",
      "Les colonnes de table des matches : Index(['Squad', 'Date', 'Time', 'Comp', 'Round', 'Day', 'Venue', 'Result',\n",
      "       'GF', 'GA', 'Opponent', 'xG', 'xGA', 'Poss', 'Attendance', 'Captain',\n",
      "       'Formation', 'Opp Formation', 'Referee'],\n",
      "      dtype='object')\n"
     ]
    }
   ],
   "source": [
    "print(f\"Le nombres total des matches : {df_matches.shape}\")\n",
    "print(f\"Les colonnes de table des matches : {df_matches.columns}\")\n"
   ]
  },
  {
   "cell_type": "markdown",
   "id": "ed636366",
   "metadata": {},
   "source": [
    "* Identifier les manquants : "
   ]
  },
  {
   "cell_type": "code",
   "execution_count": 31,
   "id": "5a419b06",
   "metadata": {},
   "outputs": [
    {
     "name": "stdout",
     "output_type": "stream",
     "text": [
      "Le nombre des manquantes par colonnes : \n",
      "Squad              0\n",
      "Date               0\n",
      "Time               0\n",
      "Comp               0\n",
      "Round              0\n",
      "Day                0\n",
      "Venue              0\n",
      "Result             0\n",
      "GF                 0\n",
      "GA                 0\n",
      "Opponent           0\n",
      "xG               126\n",
      "xGA              126\n",
      "Poss              22\n",
      "Attendance         6\n",
      "Captain            0\n",
      "Formation          0\n",
      "Opp Formation      0\n",
      "Referee            5\n",
      "dtype: int64\n",
      "Le nombre total des manquantes dans les colonnes : \n",
      "285\n"
     ]
    }
   ],
   "source": [
    "print(f\"Le nombre des manquantes par colonnes : \\n{df_matches.isnull().sum()}\")\n",
    "print(f\"Le nombre total des manquantes dans les colonnes : \\n{df_matches.isnull().sum().sum()}\")\n"
   ]
  },
  {
   "cell_type": "markdown",
   "id": "732ac50d",
   "metadata": {},
   "source": [
    "* gestion des manquantes : "
   ]
  },
  {
   "cell_type": "code",
   "execution_count": 32,
   "id": "186d7189",
   "metadata": {},
   "outputs": [
    {
     "name": "stdout",
     "output_type": "stream",
     "text": [
      "Le nombre des manquantes par colonnes apres le remplacement des valeurs manquantes par 0 : \n",
      "Squad            0\n",
      "Date             0\n",
      "Time             0\n",
      "Comp             0\n",
      "Round            0\n",
      "Day              0\n",
      "Venue            0\n",
      "Result           0\n",
      "GF               0\n",
      "GA               0\n",
      "Opponent         0\n",
      "xG               0\n",
      "xGA              0\n",
      "Poss             0\n",
      "Attendance       0\n",
      "Captain          0\n",
      "Formation        0\n",
      "Opp Formation    0\n",
      "Referee          0\n",
      "dtype: int64\n"
     ]
    }
   ],
   "source": [
    "df_matches_clean = df_matches.copy()\n",
    "\n",
    "# Remplacement des valeurs manquantes\n",
    "df_matches_clean['xG'] = df_matches_clean['xG'].fillna(0)\n",
    "df_matches_clean['xGA'] = df_matches_clean['xGA'].fillna(0)\n",
    "df_matches_clean['Attendance'] = df_matches_clean['Attendance'].fillna('0')\n",
    "df_matches_clean['Referee'] = df_matches_clean['Referee'].fillna('Inconnu')\n",
    "df_matches_clean['Poss'] = df_matches_clean['Poss'].fillna(round(df_matches_clean['Poss'].mean(), 2))\n",
    "\n",
    "\n",
    "print(f\"Le nombre des manquantes par colonnes apres le remplacement des valeurs manquantes par 0 : \\n{df_matches_clean.isnull().sum()}\")\n"
   ]
  },
  {
   "cell_type": "markdown",
   "id": "67844842",
   "metadata": {},
   "source": [
    "* identifier et supprimer les doubleons : "
   ]
  },
  {
   "cell_type": "code",
   "execution_count": 33,
   "id": "91d93874",
   "metadata": {},
   "outputs": [
    {
     "name": "stdout",
     "output_type": "stream",
     "text": [
      "Le nombre total des duplications dans la table des matches : 0\n"
     ]
    }
   ],
   "source": [
    "print(f\"Le nombre total des duplications dans la table des matches : {df_matches.duplicated().sum()}\")\n",
    "\n",
    "df_matches_clean = df_matches_clean.drop_duplicates()"
   ]
  },
  {
   "cell_type": "markdown",
   "id": "addb3934",
   "metadata": {},
   "source": [
    "* 🔎 Corriger les incohérences dans les données"
   ]
  },
  {
   "cell_type": "code",
   "execution_count": 34,
   "id": "dceac518",
   "metadata": {},
   "outputs": [],
   "source": [
    "# Extraire les valeurs entre parenthèses\n",
    "gf_penalties = df_matches_clean['GF'].str.extract(r'\\((\\d+)\\)', expand=False)\n",
    "ga_penalties = df_matches_clean['GA'].str.extract(r'\\((\\d+)\\)', expand=False)\n",
    "\n",
    "# Remplacer seulement les lignes où on a trouvé des valeurs entre parenthèses\n",
    "df_matches_clean['GF'] = gf_penalties.fillna(df_matches_clean['GF'])\n",
    "df_matches_clean['GA'] = ga_penalties.fillna(df_matches_clean['GA'])\n",
    "\n",
    "# Convertir en numérique\n",
    "df_matches_clean['GF'] = pd.to_numeric(df_matches_clean['GF'], errors='coerce')\n",
    "df_matches_clean['GA'] = pd.to_numeric(df_matches_clean['GA'], errors='coerce')"
   ]
  },
  {
   "cell_type": "code",
   "execution_count": 35,
   "id": "9723a94f",
   "metadata": {},
   "outputs": [
    {
     "data": {
      "text/html": [
       "<div>\n",
       "<style scoped>\n",
       "    .dataframe tbody tr th:only-of-type {\n",
       "        vertical-align: middle;\n",
       "    }\n",
       "\n",
       "    .dataframe tbody tr th {\n",
       "        vertical-align: top;\n",
       "    }\n",
       "\n",
       "    .dataframe thead th {\n",
       "        text-align: right;\n",
       "    }\n",
       "</style>\n",
       "<table border=\"1\" class=\"dataframe\">\n",
       "  <thead>\n",
       "    <tr style=\"text-align: right;\">\n",
       "      <th></th>\n",
       "      <th>Squad</th>\n",
       "      <th>Date</th>\n",
       "      <th>Time</th>\n",
       "      <th>Comp</th>\n",
       "      <th>Round</th>\n",
       "      <th>Day</th>\n",
       "      <th>Venue</th>\n",
       "      <th>Result</th>\n",
       "      <th>GF</th>\n",
       "      <th>GA</th>\n",
       "      <th>Opponent</th>\n",
       "      <th>xG</th>\n",
       "      <th>xGA</th>\n",
       "      <th>Poss</th>\n",
       "      <th>Attendance</th>\n",
       "      <th>Captain</th>\n",
       "      <th>Formation</th>\n",
       "      <th>Opp Formation</th>\n",
       "      <th>Referee</th>\n",
       "    </tr>\n",
       "  </thead>\n",
       "  <tbody>\n",
       "    <tr>\n",
       "      <th>86</th>\n",
       "      <td>Arsenal</td>\n",
       "      <td>2025-01-12</td>\n",
       "      <td>15:00 (16:00)</td>\n",
       "      <td>FA Cup</td>\n",
       "      <td>Third round proper</td>\n",
       "      <td>Sun</td>\n",
       "      <td>Home</td>\n",
       "      <td>D</td>\n",
       "      <td>3</td>\n",
       "      <td>5</td>\n",
       "      <td>Manchester Utd</td>\n",
       "      <td>0.0</td>\n",
       "      <td>0.0</td>\n",
       "      <td>51.1</td>\n",
       "      <td>60,109</td>\n",
       "      <td>Martin Ødegaard</td>\n",
       "      <td>4-3-3</td>\n",
       "      <td>3-4-3</td>\n",
       "      <td>Andy Madley</td>\n",
       "    </tr>\n",
       "    <tr>\n",
       "      <th>114</th>\n",
       "      <td>Manchester City</td>\n",
       "      <td>2024-08-10</td>\n",
       "      <td>15:00</td>\n",
       "      <td>FA Community Shield</td>\n",
       "      <td>FA Community Shield</td>\n",
       "      <td>Sat</td>\n",
       "      <td>Home</td>\n",
       "      <td>D</td>\n",
       "      <td>7</td>\n",
       "      <td>6</td>\n",
       "      <td>Manchester Utd</td>\n",
       "      <td>0.0</td>\n",
       "      <td>0.0</td>\n",
       "      <td>56.0</td>\n",
       "      <td>78,146</td>\n",
       "      <td>Rúben Dias</td>\n",
       "      <td>4-3-3</td>\n",
       "      <td>4-2-3-1</td>\n",
       "      <td>Jarred Gillett</td>\n",
       "    </tr>\n",
       "    <tr>\n",
       "      <th>230</th>\n",
       "      <td>Newcastle Utd</td>\n",
       "      <td>2024-08-28</td>\n",
       "      <td>20:00</td>\n",
       "      <td>EFL Cup</td>\n",
       "      <td>Second round</td>\n",
       "      <td>Wed</td>\n",
       "      <td>Away</td>\n",
       "      <td>D</td>\n",
       "      <td>4</td>\n",
       "      <td>3</td>\n",
       "      <td>Nott'ham Forest</td>\n",
       "      <td>0.0</td>\n",
       "      <td>0.0</td>\n",
       "      <td>59.0</td>\n",
       "      <td>23,083</td>\n",
       "      <td>Kieran Trippier</td>\n",
       "      <td>4-3-3</td>\n",
       "      <td>3-4-1-2</td>\n",
       "      <td>Samuel Allison</td>\n",
       "    </tr>\n",
       "    <tr>\n",
       "      <th>335</th>\n",
       "      <td>Nott'ham Forest</td>\n",
       "      <td>2024-08-28</td>\n",
       "      <td>20:00</td>\n",
       "      <td>EFL Cup</td>\n",
       "      <td>Second round</td>\n",
       "      <td>Wed</td>\n",
       "      <td>Home</td>\n",
       "      <td>D</td>\n",
       "      <td>3</td>\n",
       "      <td>4</td>\n",
       "      <td>Newcastle Utd</td>\n",
       "      <td>0.0</td>\n",
       "      <td>0.0</td>\n",
       "      <td>42.0</td>\n",
       "      <td>23,083</td>\n",
       "      <td>Willy Boly</td>\n",
       "      <td>3-4-1-2</td>\n",
       "      <td>4-3-3</td>\n",
       "      <td>Samuel Allison</td>\n",
       "    </tr>\n",
       "    <tr>\n",
       "      <th>359</th>\n",
       "      <td>Nott'ham Forest</td>\n",
       "      <td>2025-02-11</td>\n",
       "      <td>20:00 (21:00)</td>\n",
       "      <td>FA Cup</td>\n",
       "      <td>Fourth round proper</td>\n",
       "      <td>Tue</td>\n",
       "      <td>Away</td>\n",
       "      <td>D</td>\n",
       "      <td>4</td>\n",
       "      <td>2</td>\n",
       "      <td>Exeter City</td>\n",
       "      <td>0.0</td>\n",
       "      <td>0.0</td>\n",
       "      <td>77.0</td>\n",
       "      <td>8,330</td>\n",
       "      <td>Ryan Yates</td>\n",
       "      <td>4-2-3-1</td>\n",
       "      <td>5-4-1</td>\n",
       "      <td>Andrew Kitchen</td>\n",
       "    </tr>\n",
       "  </tbody>\n",
       "</table>\n",
       "</div>"
      ],
      "text/plain": [
       "               Squad        Date           Time                 Comp  \\\n",
       "86           Arsenal  2025-01-12  15:00 (16:00)               FA Cup   \n",
       "114  Manchester City  2024-08-10          15:00  FA Community Shield   \n",
       "230    Newcastle Utd  2024-08-28          20:00              EFL Cup   \n",
       "335  Nott'ham Forest  2024-08-28          20:00              EFL Cup   \n",
       "359  Nott'ham Forest  2025-02-11  20:00 (21:00)               FA Cup   \n",
       "\n",
       "                   Round  Day Venue Result  GF  GA         Opponent   xG  xGA  \\\n",
       "86    Third round proper  Sun  Home      D   3   5   Manchester Utd  0.0  0.0   \n",
       "114  FA Community Shield  Sat  Home      D   7   6   Manchester Utd  0.0  0.0   \n",
       "230         Second round  Wed  Away      D   4   3  Nott'ham Forest  0.0  0.0   \n",
       "335         Second round  Wed  Home      D   3   4    Newcastle Utd  0.0  0.0   \n",
       "359  Fourth round proper  Tue  Away      D   4   2      Exeter City  0.0  0.0   \n",
       "\n",
       "     Poss Attendance          Captain Formation Opp Formation         Referee  \n",
       "86   51.1     60,109  Martin Ødegaard     4-3-3         3-4-3     Andy Madley  \n",
       "114  56.0     78,146       Rúben Dias     4-3-3       4-2-3-1  Jarred Gillett  \n",
       "230  59.0     23,083  Kieran Trippier     4-3-3       3-4-1-2  Samuel Allison  \n",
       "335  42.0     23,083       Willy Boly   3-4-1-2         4-3-3  Samuel Allison  \n",
       "359  77.0      8,330       Ryan Yates   4-2-3-1         5-4-1  Andrew Kitchen  "
      ]
     },
     "execution_count": 35,
     "metadata": {},
     "output_type": "execute_result"
    }
   ],
   "source": [
    "# Vérification\n",
    "incoherences = df_matches_clean[\n",
    "    ((df_matches_clean['GF'] > df_matches_clean['GA']) & (df_matches_clean['Result'] != 'W')) |\n",
    "    ((df_matches_clean['GF'] < df_matches_clean['GA']) & (df_matches_clean['Result'] != 'L')) |\n",
    "    ((df_matches_clean['GF'] == df_matches_clean['GA']) & (df_matches_clean['Result'] != 'D'))\n",
    "]\n",
    "\n",
    "pd.DataFrame(incoherences).head(5)\n",
    "\n",
    "# print(incoherences.shape)"
   ]
  },
  {
   "cell_type": "code",
   "execution_count": 36,
   "id": "cd123afa",
   "metadata": {},
   "outputs": [],
   "source": [
    "df_matches_clean.loc[df_matches_clean['GF'] > df_matches_clean['GA'], 'Result'] = 'W'\n",
    "df_matches_clean.loc[df_matches_clean['GF'] < df_matches_clean['GA'], 'Result'] = 'L'\n",
    "df_matches_clean.loc[df_matches_clean['GF'] == df_matches_clean['GA'], 'Result'] = 'D'\n"
   ]
  },
  {
   "cell_type": "code",
   "execution_count": 37,
   "id": "dbc2bb67",
   "metadata": {},
   "outputs": [
    {
     "data": {
      "text/html": [
       "<div>\n",
       "<style scoped>\n",
       "    .dataframe tbody tr th:only-of-type {\n",
       "        vertical-align: middle;\n",
       "    }\n",
       "\n",
       "    .dataframe tbody tr th {\n",
       "        vertical-align: top;\n",
       "    }\n",
       "\n",
       "    .dataframe thead th {\n",
       "        text-align: right;\n",
       "    }\n",
       "</style>\n",
       "<table border=\"1\" class=\"dataframe\">\n",
       "  <thead>\n",
       "    <tr style=\"text-align: right;\">\n",
       "      <th></th>\n",
       "      <th>Squad</th>\n",
       "      <th>Date</th>\n",
       "      <th>Time</th>\n",
       "      <th>Comp</th>\n",
       "      <th>Round</th>\n",
       "      <th>Day</th>\n",
       "      <th>Venue</th>\n",
       "      <th>Result</th>\n",
       "      <th>GF</th>\n",
       "      <th>GA</th>\n",
       "      <th>Opponent</th>\n",
       "      <th>xG</th>\n",
       "      <th>xGA</th>\n",
       "      <th>Poss</th>\n",
       "      <th>Attendance</th>\n",
       "      <th>Captain</th>\n",
       "      <th>Formation</th>\n",
       "      <th>Opp Formation</th>\n",
       "      <th>Referee</th>\n",
       "    </tr>\n",
       "  </thead>\n",
       "  <tbody>\n",
       "  </tbody>\n",
       "</table>\n",
       "</div>"
      ],
      "text/plain": [
       "Empty DataFrame\n",
       "Columns: [Squad, Date, Time, Comp, Round, Day, Venue, Result, GF, GA, Opponent, xG, xGA, Poss, Attendance, Captain, Formation, Opp Formation, Referee]\n",
       "Index: []"
      ]
     },
     "execution_count": 37,
     "metadata": {},
     "output_type": "execute_result"
    }
   ],
   "source": [
    "# Vérification apres la correction \n",
    "incoherences = df_matches_clean[\n",
    "    ((df_matches_clean['GF'] > df_matches_clean['GA']) & (df_matches_clean['Result'] != 'W')) |\n",
    "    ((df_matches_clean['GF'] < df_matches_clean['GA']) & (df_matches_clean['Result'] != 'L')) |\n",
    "    ((df_matches_clean['GF'] == df_matches_clean['GA']) & (df_matches_clean['Result'] != 'D'))\n",
    "]\n",
    "\n",
    "pd.DataFrame(incoherences).head(5)\n",
    "\n",
    "# print(incoherences.shape)"
   ]
  },
  {
   "cell_type": "markdown",
   "id": "0eb73bd7",
   "metadata": {},
   "source": [
    "\n",
    "#### ➕ Standardisation des données (matches)"
   ]
  },
  {
   "cell_type": "markdown",
   "id": "56a82c53",
   "metadata": {},
   "source": [
    "* Normalisation des noms de colonnes"
   ]
  },
  {
   "cell_type": "code",
   "execution_count": 38,
   "id": "d993096a",
   "metadata": {},
   "outputs": [],
   "source": [
    "df_matches_clean.columns = df_matches_clean.columns.str.strip().str.replace(' ', '_')\n"
   ]
  },
  {
   "cell_type": "code",
   "execution_count": 39,
   "id": "f8ca199a",
   "metadata": {},
   "outputs": [
    {
     "data": {
      "text/plain": [
       "Index(['Squad', 'Date', 'Time', 'Comp', 'Round', 'Day', 'Venue', 'Result',\n",
       "       'GF', 'GA', 'Opponent', 'xG', 'xGA', 'Poss', 'Attendance', 'Captain',\n",
       "       'Formation', 'Opp_Formation', 'Referee'],\n",
       "      dtype='object')"
      ]
     },
     "execution_count": 39,
     "metadata": {},
     "output_type": "execute_result"
    }
   ],
   "source": [
    "df_matches_clean.columns"
   ]
  },
  {
   "cell_type": "markdown",
   "id": "92465bc5",
   "metadata": {},
   "source": [
    "* Format de la date et de l’heure"
   ]
  },
  {
   "cell_type": "code",
   "execution_count": 40,
   "id": "af91ecfb",
   "metadata": {},
   "outputs": [],
   "source": [
    "# Time\n",
    "df_matches_clean['Time'] = df_matches_clean['Time'].str.extract(r'(\\d{2}:\\d{2})')\n",
    "\n",
    "# Date\n",
    "# df_matches_clean['Date'] = pd.to_datetime(df_matches_clean['Date'], errors='coerce')\n",
    "\n"
   ]
  },
  {
   "cell_type": "markdown",
   "id": "f9ff452d",
   "metadata": {},
   "source": [
    "* convertir de Attendance comme un int : "
   ]
  },
  {
   "cell_type": "code",
   "execution_count": 41,
   "id": "57605e26",
   "metadata": {},
   "outputs": [
    {
     "name": "stdout",
     "output_type": "stream",
     "text": [
      "Avant : \n",
      " 0    30,014\n",
      "1    60,017\n",
      "2    73,738\n",
      "3    60,344\n",
      "Name: Attendance, dtype: object\n",
      "Apres : \n",
      " 0    30014\n",
      "1    60017\n",
      "2    73738\n",
      "3    60344\n",
      "Name: Attendance, dtype: int64\n"
     ]
    }
   ],
   "source": [
    "print(\"Avant : \\n\",df_matches['Attendance'].head(4))\n",
    "df_matches_clean['Attendance'] = df_matches_clean['Attendance'].str.replace(',', '').astype(int)\n",
    "\n",
    "print(\"Apres : \\n\",df_matches_clean['Attendance'].head(4))\n"
   ]
  },
  {
   "cell_type": "markdown",
   "id": "db7197c2",
   "metadata": {},
   "source": [
    "##### 📍 Gerer les matches Home/Away : "
   ]
  },
  {
   "cell_type": "code",
   "execution_count": 42,
   "id": "0fecee13",
   "metadata": {},
   "outputs": [
    {
     "data": {
      "text/html": [
       "<div>\n",
       "<style scoped>\n",
       "    .dataframe tbody tr th:only-of-type {\n",
       "        vertical-align: middle;\n",
       "    }\n",
       "\n",
       "    .dataframe tbody tr th {\n",
       "        vertical-align: top;\n",
       "    }\n",
       "\n",
       "    .dataframe thead th {\n",
       "        text-align: right;\n",
       "    }\n",
       "</style>\n",
       "<table border=\"1\" class=\"dataframe\">\n",
       "  <thead>\n",
       "    <tr style=\"text-align: right;\">\n",
       "      <th></th>\n",
       "      <th>Squad</th>\n",
       "      <th>Date</th>\n",
       "      <th>Time</th>\n",
       "      <th>Comp</th>\n",
       "      <th>Round</th>\n",
       "      <th>Day</th>\n",
       "      <th>Venue</th>\n",
       "      <th>Result</th>\n",
       "      <th>GF</th>\n",
       "      <th>GA</th>\n",
       "      <th>Opponent</th>\n",
       "      <th>xG</th>\n",
       "      <th>xGA</th>\n",
       "      <th>Poss</th>\n",
       "      <th>Attendance</th>\n",
       "      <th>Captain</th>\n",
       "      <th>Formation</th>\n",
       "      <th>Opp_Formation</th>\n",
       "      <th>Referee</th>\n",
       "      <th>MatchKey</th>\n",
       "    </tr>\n",
       "  </thead>\n",
       "  <tbody>\n",
       "    <tr>\n",
       "      <th>0</th>\n",
       "      <td>Liverpool</td>\n",
       "      <td>2024-08-17</td>\n",
       "      <td>12:30</td>\n",
       "      <td>Premier League</td>\n",
       "      <td>Matchweek 1</td>\n",
       "      <td>Sat</td>\n",
       "      <td>Away</td>\n",
       "      <td>W</td>\n",
       "      <td>2</td>\n",
       "      <td>0</td>\n",
       "      <td>Ipswich Town</td>\n",
       "      <td>2.6</td>\n",
       "      <td>0.5</td>\n",
       "      <td>62.0</td>\n",
       "      <td>30014</td>\n",
       "      <td>Virgil van Dijk</td>\n",
       "      <td>4-2-3-1</td>\n",
       "      <td>4-2-3-1</td>\n",
       "      <td>Tim Robinson</td>\n",
       "      <td>2024-08-17_Ipswich Town_Liverpool</td>\n",
       "    </tr>\n",
       "    <tr>\n",
       "      <th>1</th>\n",
       "      <td>Liverpool</td>\n",
       "      <td>2024-08-25</td>\n",
       "      <td>16:30</td>\n",
       "      <td>Premier League</td>\n",
       "      <td>Matchweek 2</td>\n",
       "      <td>Sun</td>\n",
       "      <td>Home</td>\n",
       "      <td>W</td>\n",
       "      <td>2</td>\n",
       "      <td>0</td>\n",
       "      <td>Brentford</td>\n",
       "      <td>2.5</td>\n",
       "      <td>0.5</td>\n",
       "      <td>62.0</td>\n",
       "      <td>60017</td>\n",
       "      <td>Virgil van Dijk</td>\n",
       "      <td>4-2-3-1</td>\n",
       "      <td>4-4-2</td>\n",
       "      <td>Stuart Attwell</td>\n",
       "      <td>2024-08-25_Brentford_Liverpool</td>\n",
       "    </tr>\n",
       "    <tr>\n",
       "      <th>2</th>\n",
       "      <td>Liverpool</td>\n",
       "      <td>2024-09-01</td>\n",
       "      <td>16:00</td>\n",
       "      <td>Premier League</td>\n",
       "      <td>Matchweek 3</td>\n",
       "      <td>Sun</td>\n",
       "      <td>Away</td>\n",
       "      <td>W</td>\n",
       "      <td>3</td>\n",
       "      <td>0</td>\n",
       "      <td>Manchester Utd</td>\n",
       "      <td>1.8</td>\n",
       "      <td>1.4</td>\n",
       "      <td>47.0</td>\n",
       "      <td>73738</td>\n",
       "      <td>Virgil van Dijk</td>\n",
       "      <td>4-2-3-1</td>\n",
       "      <td>4-2-3-1</td>\n",
       "      <td>Anthony Taylor</td>\n",
       "      <td>2024-09-01_Liverpool_Manchester Utd</td>\n",
       "    </tr>\n",
       "  </tbody>\n",
       "</table>\n",
       "</div>"
      ],
      "text/plain": [
       "       Squad        Date   Time            Comp        Round  Day Venue  \\\n",
       "0  Liverpool  2024-08-17  12:30  Premier League  Matchweek 1  Sat  Away   \n",
       "1  Liverpool  2024-08-25  16:30  Premier League  Matchweek 2  Sun  Home   \n",
       "2  Liverpool  2024-09-01  16:00  Premier League  Matchweek 3  Sun  Away   \n",
       "\n",
       "  Result  GF  GA        Opponent   xG  xGA  Poss  Attendance          Captain  \\\n",
       "0      W   2   0    Ipswich Town  2.6  0.5  62.0       30014  Virgil van Dijk   \n",
       "1      W   2   0       Brentford  2.5  0.5  62.0       60017  Virgil van Dijk   \n",
       "2      W   3   0  Manchester Utd  1.8  1.4  47.0       73738  Virgil van Dijk   \n",
       "\n",
       "  Formation Opp_Formation         Referee                             MatchKey  \n",
       "0   4-2-3-1       4-2-3-1    Tim Robinson    2024-08-17_Ipswich Town_Liverpool  \n",
       "1   4-2-3-1         4-4-2  Stuart Attwell       2024-08-25_Brentford_Liverpool  \n",
       "2   4-2-3-1       4-2-3-1  Anthony Taylor  2024-09-01_Liverpool_Manchester Utd  "
      ]
     },
     "execution_count": 42,
     "metadata": {},
     "output_type": "execute_result"
    }
   ],
   "source": [
    "df_matches_clean['MatchKey'] = df_matches_clean.apply(\n",
    "    lambda row: f\"{row['Date']}_\" + '_'.join(sorted([row['Squad'], row['Opponent']])),\n",
    "    axis=1\n",
    ")\n",
    "\n",
    "df_matches_clean.head(3)"
   ]
  },
  {
   "cell_type": "markdown",
   "id": "3165e8d3",
   "metadata": {},
   "source": [
    "* Garder la première ligne trouvée."
   ]
  },
  {
   "cell_type": "code",
   "execution_count": 43,
   "id": "894d2bf4",
   "metadata": {},
   "outputs": [
    {
     "name": "stdout",
     "output_type": "stream",
     "text": [
      "(975, 20)\n",
      "(559, 20)\n"
     ]
    }
   ],
   "source": [
    "data_matches_clean = df_matches_clean.drop_duplicates(subset='MatchKey', keep='first').reset_index(drop=True)\n",
    "\n",
    "\n",
    "\n",
    "print(df_matches_clean.shape)\n",
    "print(data_matches_clean.shape)"
   ]
  },
  {
   "cell_type": "markdown",
   "id": "12303787",
   "metadata": {},
   "source": [
    "##### 📍 sauvegarder les matches cleaned dans un nouveau fichier CSV "
   ]
  },
  {
   "cell_type": "code",
   "execution_count": 44,
   "id": "4d53b1da",
   "metadata": {},
   "outputs": [],
   "source": [
    "\n",
    "data_matches_clean.to_csv('../data/data_cleaned/matches_clean.csv', index=False)\n"
   ]
  },
  {
   "cell_type": "code",
   "execution_count": null,
   "id": "678644d0",
   "metadata": {},
   "outputs": [],
   "source": []
  },
  {
   "cell_type": "markdown",
   "id": "826d2801",
   "metadata": {},
   "source": [
    "***\n",
    "***"
   ]
  },
  {
   "cell_type": "markdown",
   "id": "43e3ce57",
   "metadata": {},
   "source": [
    "## 🟢 players : "
   ]
  },
  {
   "cell_type": "markdown",
   "id": "94fea4ef",
   "metadata": {},
   "source": [
    "* Importer dataframe (players) : "
   ]
  },
  {
   "cell_type": "code",
   "execution_count": 45,
   "id": "4088a7ce",
   "metadata": {},
   "outputs": [
    {
     "data": {
      "text/html": [
       "<div>\n",
       "<style scoped>\n",
       "    .dataframe tbody tr th:only-of-type {\n",
       "        vertical-align: middle;\n",
       "    }\n",
       "\n",
       "    .dataframe tbody tr th {\n",
       "        vertical-align: top;\n",
       "    }\n",
       "\n",
       "    .dataframe thead th {\n",
       "        text-align: right;\n",
       "    }\n",
       "</style>\n",
       "<table border=\"1\" class=\"dataframe\">\n",
       "  <thead>\n",
       "    <tr style=\"text-align: right;\">\n",
       "      <th></th>\n",
       "      <th>Squad</th>\n",
       "      <th>Player</th>\n",
       "      <th>Nation</th>\n",
       "      <th>Pos</th>\n",
       "      <th>Age</th>\n",
       "      <th>MP</th>\n",
       "      <th>Starts</th>\n",
       "      <th>Min</th>\n",
       "      <th>90s</th>\n",
       "      <th>Gls</th>\n",
       "      <th>Ast</th>\n",
       "      <th>G+A</th>\n",
       "      <th>G-PK</th>\n",
       "      <th>PK</th>\n",
       "      <th>PKatt</th>\n",
       "      <th>CrdY</th>\n",
       "      <th>CrdR</th>\n",
       "    </tr>\n",
       "  </thead>\n",
       "  <tbody>\n",
       "    <tr>\n",
       "      <th>0</th>\n",
       "      <td>Liverpool</td>\n",
       "      <td>Mohamed Salah</td>\n",
       "      <td>eg EGY</td>\n",
       "      <td>FW</td>\n",
       "      <td>32.0</td>\n",
       "      <td>38</td>\n",
       "      <td>38</td>\n",
       "      <td>3,371</td>\n",
       "      <td>37.5</td>\n",
       "      <td>29.0</td>\n",
       "      <td>18.0</td>\n",
       "      <td>47.0</td>\n",
       "      <td>20.0</td>\n",
       "      <td>9.0</td>\n",
       "      <td>9.0</td>\n",
       "      <td>1.0</td>\n",
       "      <td>0.0</td>\n",
       "    </tr>\n",
       "    <tr>\n",
       "      <th>1</th>\n",
       "      <td>Liverpool</td>\n",
       "      <td>Virgil van Dijk</td>\n",
       "      <td>nl NED</td>\n",
       "      <td>DF</td>\n",
       "      <td>33.0</td>\n",
       "      <td>37</td>\n",
       "      <td>37</td>\n",
       "      <td>3,330</td>\n",
       "      <td>37.0</td>\n",
       "      <td>3.0</td>\n",
       "      <td>1.0</td>\n",
       "      <td>4.0</td>\n",
       "      <td>3.0</td>\n",
       "      <td>0.0</td>\n",
       "      <td>0.0</td>\n",
       "      <td>5.0</td>\n",
       "      <td>0.0</td>\n",
       "    </tr>\n",
       "    <tr>\n",
       "      <th>2</th>\n",
       "      <td>Liverpool</td>\n",
       "      <td>Ryan Gravenberch</td>\n",
       "      <td>nl NED</td>\n",
       "      <td>MF</td>\n",
       "      <td>22.0</td>\n",
       "      <td>37</td>\n",
       "      <td>37</td>\n",
       "      <td>3,160</td>\n",
       "      <td>35.1</td>\n",
       "      <td>0.0</td>\n",
       "      <td>4.0</td>\n",
       "      <td>4.0</td>\n",
       "      <td>0.0</td>\n",
       "      <td>0.0</td>\n",
       "      <td>0.0</td>\n",
       "      <td>6.0</td>\n",
       "      <td>1.0</td>\n",
       "    </tr>\n",
       "    <tr>\n",
       "      <th>3</th>\n",
       "      <td>Liverpool</td>\n",
       "      <td>Alexis Mac Allister</td>\n",
       "      <td>ar ARG</td>\n",
       "      <td>MF</td>\n",
       "      <td>25.0</td>\n",
       "      <td>35</td>\n",
       "      <td>30</td>\n",
       "      <td>2,599</td>\n",
       "      <td>28.9</td>\n",
       "      <td>5.0</td>\n",
       "      <td>5.0</td>\n",
       "      <td>10.0</td>\n",
       "      <td>5.0</td>\n",
       "      <td>0.0</td>\n",
       "      <td>0.0</td>\n",
       "      <td>6.0</td>\n",
       "      <td>0.0</td>\n",
       "    </tr>\n",
       "    <tr>\n",
       "      <th>4</th>\n",
       "      <td>Liverpool</td>\n",
       "      <td>Ibrahima Konaté</td>\n",
       "      <td>fr FRA</td>\n",
       "      <td>DF</td>\n",
       "      <td>25.0</td>\n",
       "      <td>31</td>\n",
       "      <td>30</td>\n",
       "      <td>2,560</td>\n",
       "      <td>28.4</td>\n",
       "      <td>1.0</td>\n",
       "      <td>2.0</td>\n",
       "      <td>3.0</td>\n",
       "      <td>1.0</td>\n",
       "      <td>0.0</td>\n",
       "      <td>0.0</td>\n",
       "      <td>5.0</td>\n",
       "      <td>0.0</td>\n",
       "    </tr>\n",
       "  </tbody>\n",
       "</table>\n",
       "</div>"
      ],
      "text/plain": [
       "       Squad               Player  Nation Pos   Age  MP  Starts    Min   90s  \\\n",
       "0  Liverpool        Mohamed Salah  eg EGY  FW  32.0  38      38  3,371  37.5   \n",
       "1  Liverpool      Virgil van Dijk  nl NED  DF  33.0  37      37  3,330  37.0   \n",
       "2  Liverpool     Ryan Gravenberch  nl NED  MF  22.0  37      37  3,160  35.1   \n",
       "3  Liverpool  Alexis Mac Allister  ar ARG  MF  25.0  35      30  2,599  28.9   \n",
       "4  Liverpool      Ibrahima Konaté  fr FRA  DF  25.0  31      30  2,560  28.4   \n",
       "\n",
       "    Gls   Ast   G+A  G-PK   PK  PKatt  CrdY  CrdR  \n",
       "0  29.0  18.0  47.0  20.0  9.0    9.0   1.0   0.0  \n",
       "1   3.0   1.0   4.0   3.0  0.0    0.0   5.0   0.0  \n",
       "2   0.0   4.0   4.0   0.0  0.0    0.0   6.0   1.0  \n",
       "3   5.0   5.0  10.0   5.0  0.0    0.0   6.0   0.0  \n",
       "4   1.0   2.0   3.0   1.0  0.0    0.0   5.0   0.0  "
      ]
     },
     "execution_count": 45,
     "metadata": {},
     "output_type": "execute_result"
    }
   ],
   "source": [
    "# les players : \n",
    "df_players = pd.read_csv('../data/data_scraper/players_infos.csv')\n",
    "df_players.head(5)"
   ]
  },
  {
   "cell_type": "markdown",
   "id": "2b387a36",
   "metadata": {},
   "source": [
    "\n",
    "### 2️⃣ Transformation des données (players)"
   ]
  },
  {
   "cell_type": "markdown",
   "id": "f1a598f0",
   "metadata": {},
   "source": [
    "#### ➕ Nettoyage : suppression ou traitement des valeurs manquantes et incohérentes."
   ]
  },
  {
   "cell_type": "markdown",
   "id": "9d6bebb5",
   "metadata": {},
   "source": [
    "##### 🔎 Compter le nombre des manquantes dans dataframes (players)"
   ]
  },
  {
   "cell_type": "markdown",
   "id": "f6a6a1e0",
   "metadata": {},
   "source": [
    "* visualisation général : "
   ]
  },
  {
   "cell_type": "code",
   "execution_count": 46,
   "id": "1d819c8e",
   "metadata": {},
   "outputs": [
    {
     "name": "stdout",
     "output_type": "stream",
     "text": [
      "Le nombres total des players : (702, 17)\n",
      "Les colonnes de table des players : Index(['Squad', 'Player', 'Nation', 'Pos', 'Age', 'MP', 'Starts', 'Min', '90s',\n",
      "       'Gls', 'Ast', 'G+A', 'G-PK', 'PK', 'PKatt', 'CrdY', 'CrdR'],\n",
      "      dtype='object')\n"
     ]
    }
   ],
   "source": [
    "print(f\"Le nombres total des players : {df_players.shape}\")\n",
    "print(f\"Les colonnes de table des players : {df_players.columns}\")\n"
   ]
  },
  {
   "cell_type": "markdown",
   "id": "2b5fba09",
   "metadata": {},
   "source": [
    "* Identifier les manquants : "
   ]
  },
  {
   "cell_type": "code",
   "execution_count": 47,
   "id": "53507915",
   "metadata": {},
   "outputs": [
    {
     "name": "stdout",
     "output_type": "stream",
     "text": [
      "Le nombre des manquantes par colonnes : \n",
      "Squad       0\n",
      "Player      0\n",
      "Nation      6\n",
      "Pos         0\n",
      "Age         5\n",
      "MP          0\n",
      "Starts      0\n",
      "Min       128\n",
      "90s       128\n",
      "Gls       128\n",
      "Ast       128\n",
      "G+A       128\n",
      "G-PK      128\n",
      "PK        128\n",
      "PKatt     128\n",
      "CrdY      128\n",
      "CrdR      128\n",
      "dtype: int64\n",
      "Le nombre total des manquantes dans les colonnes : \n",
      "1291\n"
     ]
    }
   ],
   "source": [
    "print(f\"Le nombre des manquantes par colonnes : \\n{df_players.isnull().sum()}\")\n",
    "print(f\"Le nombre total des manquantes dans les colonnes : \\n{df_players.isnull().sum().sum()}\")\n"
   ]
  },
  {
   "cell_type": "markdown",
   "id": "5f8b1932",
   "metadata": {},
   "source": [
    "* gestion des manquantes : "
   ]
  },
  {
   "cell_type": "code",
   "execution_count": 48,
   "id": "aafb636e",
   "metadata": {},
   "outputs": [
    {
     "data": {
      "text/plain": [
       "Index(['Squad', 'Player', 'Nation', 'Pos', 'Age', 'MP', 'Starts', 'Min', '90s',\n",
       "       'Gls', 'Ast', 'G+A', 'G-PK', 'PK', 'PKatt', 'CrdY', 'CrdR'],\n",
       "      dtype='object')"
      ]
     },
     "execution_count": 48,
     "metadata": {},
     "output_type": "execute_result"
    }
   ],
   "source": [
    "df_players.columns"
   ]
  },
  {
   "cell_type": "code",
   "execution_count": 49,
   "id": "2b15cd3a",
   "metadata": {},
   "outputs": [
    {
     "name": "stdout",
     "output_type": "stream",
     "text": [
      "Median age = 24.0\n",
      "\n",
      "Le nombre des manquantes par colonnes apres le remplacement des valeurs manquantes par 0 : \n",
      "Squad       0\n",
      "Player      0\n",
      "Nation      0\n",
      "Pos         0\n",
      "Age         0\n",
      "MP          0\n",
      "Starts      0\n",
      "Min       128\n",
      "90s         0\n",
      "Gls         0\n",
      "Ast         0\n",
      "G+A         0\n",
      "G-PK        0\n",
      "PK          0\n",
      "PKatt       0\n",
      "CrdY        0\n",
      "CrdR        0\n",
      "dtype: int64\n"
     ]
    }
   ],
   "source": [
    "df_players_clean = df_players.copy()\n",
    "print(f\"Median age = {df_players_clean['Age'].median()}\\n\")\n",
    "\n",
    "df_players_clean['Nation'] = df_players_clean['Nation'].fillna('Inconnu')\n",
    "df_players_clean['Age'] = df_players_clean['Age'].fillna(df_players_clean['Age'].median()).astype(int)\n",
    "df_players_clean['90s'] = df_players_clean['90s'].fillna(0.0)\n",
    "df_players_clean['Gls'] = df_players_clean['Gls'].fillna(0).astype(int)\n",
    "df_players_clean['Ast'] = df_players_clean['Ast'].fillna(0).astype(int)\n",
    "df_players_clean['G+A'] = df_players_clean['G+A'].fillna(0).astype(int)\n",
    "df_players_clean['G-PK'] = df_players_clean['G-PK'].fillna(0).astype(int)\n",
    "df_players_clean['PK'] = df_players_clean['PK'].fillna(0).astype(int)\n",
    "df_players_clean['PKatt'] = df_players_clean['PKatt'].fillna(0).astype(int)\n",
    "df_players_clean['CrdY'] = df_players_clean['CrdY'].fillna(0).astype(int)\n",
    "df_players_clean['CrdR'] = df_players_clean['CrdR'].fillna(0).astype(int)\n",
    "# df_players_clean = df_players_clean.fillna(0)\n",
    "\n",
    "print(f\"Le nombre des manquantes par colonnes apres le remplacement des valeurs manquantes par 0 : \\n{df_players_clean.isnull().sum()}\")\n"
   ]
  },
  {
   "cell_type": "markdown",
   "id": "ece7f22a",
   "metadata": {},
   "source": [
    "* identifier et supprimer les doubleons : "
   ]
  },
  {
   "cell_type": "code",
   "execution_count": 50,
   "id": "3832aa25",
   "metadata": {},
   "outputs": [
    {
     "name": "stdout",
     "output_type": "stream",
     "text": [
      "Le nombre total des duplications dans la table des players : 0\n"
     ]
    }
   ],
   "source": [
    "print(f\"Le nombre total des duplications dans la table des players : {df_players_clean.duplicated().sum()}\")\n",
    "\n",
    "df_matches_clean = df_players.drop_duplicates()"
   ]
  },
  {
   "cell_type": "markdown",
   "id": "c05932aa",
   "metadata": {},
   "source": [
    "* 🔎 Corriger les incohérences dans les données"
   ]
  },
  {
   "cell_type": "markdown",
   "id": "8f5bd0a6",
   "metadata": {},
   "source": [
    "\n",
    "#### ➕ Standardisation des données (players)"
   ]
  },
  {
   "cell_type": "markdown",
   "id": "65ac0f10",
   "metadata": {},
   "source": [
    "* Normalisation des noms de colonnes"
   ]
  },
  {
   "cell_type": "code",
   "execution_count": 51,
   "id": "27dfc94f",
   "metadata": {},
   "outputs": [],
   "source": [
    "df_players_clean.columns = df_players_clean.columns.str.strip().str.replace(' ', '_')\n"
   ]
  },
  {
   "cell_type": "markdown",
   "id": "20999854",
   "metadata": {},
   "source": [
    "* convertir de Minute comme un int : "
   ]
  },
  {
   "cell_type": "code",
   "execution_count": 52,
   "id": "83610941",
   "metadata": {},
   "outputs": [
    {
     "name": "stdout",
     "output_type": "stream",
     "text": [
      "Avant : \n",
      " 0    3,371\n",
      "1    3,330\n",
      "2    3,160\n",
      "3    2,599\n",
      "Name: Min, dtype: object\n",
      "Apres : \n",
      " 0    3371.0\n",
      "1    3330.0\n",
      "2    3160.0\n",
      "3    2599.0\n",
      "Name: Min, dtype: float64\n"
     ]
    }
   ],
   "source": [
    "print(\"Avant : \\n\",df_players['Min'].head(4))\n",
    "df_players_clean['Min'] = df_players_clean['Min'].str.replace(',', '').astype(float)\n",
    "df_players_clean['Min'] = df_players_clean['Min'].fillna(0.0)\n",
    "\n",
    "print(\"Apres : \\n\",df_players_clean['Min'].head(4))\n"
   ]
  },
  {
   "cell_type": "markdown",
   "id": "3fe3b09d",
   "metadata": {},
   "source": [
    "#### 📍 sauvegarder les players cleaned dans un nouveau fichier CSV "
   ]
  },
  {
   "cell_type": "code",
   "execution_count": 53,
   "id": "7d873006",
   "metadata": {},
   "outputs": [
    {
     "name": "stdout",
     "output_type": "stream",
     "text": [
      "Squad     0\n",
      "Player    0\n",
      "Nation    0\n",
      "Pos       0\n",
      "Age       0\n",
      "MP        0\n",
      "Starts    0\n",
      "Min       0\n",
      "90s       0\n",
      "Gls       0\n",
      "Ast       0\n",
      "G+A       0\n",
      "G-PK      0\n",
      "PK        0\n",
      "PKatt     0\n",
      "CrdY      0\n",
      "CrdR      0\n",
      "dtype: int64\n"
     ]
    }
   ],
   "source": [
    "data_players_clean = df_players_clean.copy()\n",
    "\n",
    "print(data_players_clean.isnull().sum())\n",
    "\n",
    "data_players_clean.to_csv('../data/data_cleaned/players_clean.csv', index=False)\n"
   ]
  },
  {
   "cell_type": "code",
   "execution_count": 54,
   "id": "72ed2943",
   "metadata": {},
   "outputs": [
    {
     "data": {
      "text/plain": [
       "Squad      object\n",
       "Player     object\n",
       "Nation     object\n",
       "Pos        object\n",
       "Age         int64\n",
       "MP          int64\n",
       "Starts      int64\n",
       "Min       float64\n",
       "90s       float64\n",
       "Gls         int64\n",
       "Ast         int64\n",
       "G+A         int64\n",
       "G-PK        int64\n",
       "PK          int64\n",
       "PKatt       int64\n",
       "CrdY        int64\n",
       "CrdR        int64\n",
       "dtype: object"
      ]
     },
     "execution_count": 54,
     "metadata": {},
     "output_type": "execute_result"
    }
   ],
   "source": [
    "df_players_clean.dtypes"
   ]
  },
  {
   "cell_type": "code",
   "execution_count": null,
   "id": "bb42bcaa",
   "metadata": {},
   "outputs": [],
   "source": []
  }
 ],
 "metadata": {
  "kernelspec": {
   "display_name": "Python 3",
   "language": "python",
   "name": "python3"
  },
  "language_info": {
   "codemirror_mode": {
    "name": "ipython",
    "version": 3
   },
   "file_extension": ".py",
   "mimetype": "text/x-python",
   "name": "python",
   "nbconvert_exporter": "python",
   "pygments_lexer": "ipython3",
   "version": "3.13.7"
  }
 },
 "nbformat": 4,
 "nbformat_minor": 5
}
